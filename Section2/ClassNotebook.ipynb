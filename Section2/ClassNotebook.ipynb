{
 "cells": [
  {
   "cell_type": "markdown",
   "metadata": {},
   "source": [
    "### 朴素贝叶斯学习笔记"
   ]
  },
  {
   "cell_type": "markdown",
   "metadata": {},
   "source": [
    "#### 关于癌症测试的案例\n",
    "- $P(C) = 0.01$ :表示在群体人群中，得这个癌症的比例是 1%\n",
    "\n",
    "- $P(Pos|C) = 0.9$ : 表示 在得癌症的情况下，被检测出来为 阳性的概率 （ 得癌症是群体条件，或者筛选条件）为 90%\n",
    "\n",
    "- $ P(Neg|\\lnot C) = 0.9$：表示在 没有得癌症的情况下，检测出来为 阴性 的概率"
   ]
  }
 ],
 "metadata": {
  "kernelspec": {
   "display_name": "Python 2",
   "language": "python",
   "name": "python2"
  },
  "language_info": {
   "codemirror_mode": {
    "name": "ipython",
    "version": 2
   },
   "file_extension": ".py",
   "mimetype": "text/x-python",
   "name": "python",
   "nbconvert_exporter": "python",
   "pygments_lexer": "ipython2",
   "version": "2.7.14"
  }
 },
 "nbformat": 4,
 "nbformat_minor": 2
}
