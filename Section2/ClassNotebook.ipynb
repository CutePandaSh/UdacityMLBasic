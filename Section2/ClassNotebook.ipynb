{
 "cells": [
  {
   "cell_type": "markdown",
   "metadata": {},
   "source": [
    "### 朴素贝叶斯学习笔记"
   ]
  },
  {
   "cell_type": "markdown",
   "metadata": {},
   "source": [
    "#### 关于癌症测试的案例\n",
    "- $P(C) = 0.01$ :表示在群体人群中，得这个癌症的比例是 1%\n",
    "\n",
    "- $P(Pos|C) = 0.9$ : 表示 在得癌症的情况下，被检测出来为 阳性的概率 （ 得癌症是群体条件，或者筛选条件）为 90%\n",
    "\n",
    "- $ P(Neg|\\lnot C) = 0.9$：表示在 **没有**得癌症的情况下，检测出来为 阴性 的概率是90%\n",
    "\n",
    "- $ P(C， Pos) = P(C) \\cdot P(pos| C) = 0.01 \\cdot 0.9 = 0.009$$ 确实得了癌症，而且检查结果为阳性的概率，等于得癌症的概率 乘以 检查的正确性\n",
    "\n",
    "- $ P(\\lnot C, Pos) = P( \\lnot C) \\cdot P(pos| \\lnot C) = 0.99 \\cdot 0.1 = 0.099$ 没有的癌症，但是检查结果为阴性的概率，等于没有得癌症的概率，乘以检查的错误概率\n",
    "\n",
    "- $ P(C | Pos) = P(C, Pos) / (P(C, Pos) + P(\\lnot C ,Pos)) = 0.009 / (0.009 + 0.099) = 0.009 / 0.108 = 0.083333$ 在检测为阳性的前提下，确实得了癌症的几率，等于得了癌症，检测结果同时为阳性的几率 除以 得了癌症检测为阳性的几率加上没有得癌症\n",
    "检测为阴性的几率\n",
    "\n",
    "- $ P(\\lnot C |Pos) = P(\\lnot C, Pos) / (P(C, Pos) + P(\\lnot C, Pos)) = 0.099 / ( 0.009 + 0.099) = 0.917$ "
   ]
  },
  {
   "cell_type": "markdown",
   "metadata": {},
   "source": [
    "#### 主要需要识别以下区别\n",
    "\n",
    "- $ P(Pos|C)$, 表述的是 在确实得了癌症的情况下，检测为阳性的几率\n",
    "\n",
    "- $ P(C, Pos)$，表述的是 在群体中，确实得了癌症，而且被检测为阳性的几率\n",
    "\n",
    "- $ P(C| Pos)$, 表述的是，检测结果为阳性的情况下，确实得了癌症的几率"
   ]
  },
  {
   "cell_type": "markdown",
   "metadata": {},
   "source": [
    "$$P(Pos) = P(C, Pos) + P(\\lnot C , Pos)$$"
   ]
  },
  {
   "cell_type": "markdown",
   "metadata": {},
   "source": [
    "#### 记录迷你项目 naive_bayes 邮件分类的时间\n",
    "\n",
    "- 训练时间为 0.937s\n",
    "\n",
    "- 预测时间为 0.147s"
   ]
  }
 ],
 "metadata": {
  "kernelspec": {
   "display_name": "Python 2",
   "language": "python",
   "name": "python2"
  },
  "language_info": {
   "codemirror_mode": {
    "name": "ipython",
    "version": 2
   },
   "file_extension": ".py",
   "mimetype": "text/x-python",
   "name": "python",
   "nbconvert_exporter": "python",
   "pygments_lexer": "ipython2",
   "version": "2.7.13"
  }
 },
 "nbformat": 4,
 "nbformat_minor": 2
}
