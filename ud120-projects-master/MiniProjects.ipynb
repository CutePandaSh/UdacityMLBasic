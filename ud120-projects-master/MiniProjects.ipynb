{
 "cells": [
  {
   "cell_type": "code",
   "execution_count": 29,
   "metadata": {},
   "outputs": [],
   "source": [
    "import numpy as np\n",
    "import pandas as pd\n",
    "import sys\n",
    "from time import time\n",
    "sys.path.append(\"./tools/\")\n",
    "from email_preprocess import preprocess"
   ]
  },
  {
   "cell_type": "code",
   "execution_count": 10,
   "metadata": {},
   "outputs": [
    {
     "name": "stdout",
     "output_type": "stream",
     "text": [
      "no. of Chris training emails: 7936\n",
      "no. of Sara training emails: 7884\n"
     ]
    }
   ],
   "source": [
    "features_train, features_test, labels_train, labels_test = preprocess(words_file='./tools/word_data.pkl', authors_file='./tools/email_authors.pkl')"
   ]
  },
  {
   "cell_type": "code",
   "execution_count": 16,
   "metadata": {},
   "outputs": [
    {
     "data": {
      "text/plain": [
       "array([ 0.,  0.,  0., ...,  0.,  0.,  0.])"
      ]
     },
     "execution_count": 16,
     "metadata": {},
     "output_type": "execute_result"
    }
   ],
   "source": [
    "features_train[0]"
   ]
  },
  {
   "cell_type": "code",
   "execution_count": 13,
   "metadata": {
    "collapsed": true
   },
   "outputs": [],
   "source": [
    "from sklearn.metrics import accuracy_score"
   ]
  },
  {
   "cell_type": "markdown",
   "metadata": {},
   "source": [
    "### Naive Bayes朴素贝叶斯"
   ]
  },
  {
   "cell_type": "code",
   "execution_count": 17,
   "metadata": {},
   "outputs": [
    {
     "name": "stdout",
     "output_type": "stream",
     "text": [
      "Starting trainning....\n",
      "Training time:  0.957000017166\n",
      "Starting predicting....\n",
      "Predict time:  0.141999959946\n"
     ]
    },
    {
     "data": {
      "text/plain": [
       "0.97326507394766781"
      ]
     },
     "execution_count": 17,
     "metadata": {},
     "output_type": "execute_result"
    }
   ],
   "source": [
    "from sklearn.naive_bayes import GaussianNB\n",
    "clf = GaussianNB()\n",
    "print 'Starting trainning....'\n",
    "t0 = time()\n",
    "clf.fit(features_train, labels_train)\n",
    "print 'Training time: ', time() - t0\n",
    "\n",
    "print 'Starting predicting....'\n",
    "t0 = time()\n",
    "pred = clf.predict(features_test)\n",
    "print 'Predict time: ', time() - t0\n",
    "\n",
    "accuracy_score(pred, labels_test)"
   ]
  },
  {
   "cell_type": "markdown",
   "metadata": {},
   "source": [
    "### SVM支持向量机"
   ]
  },
  {
   "cell_type": "code",
   "execution_count": 18,
   "metadata": {},
   "outputs": [
    {
     "name": "stdout",
     "output_type": "stream",
     "text": [
      "start fitting....\n",
      "training time:  100.242000103\n",
      "start predicting...\n",
      "predict time:  10.1519999504\n",
      "0.990898748578\n"
     ]
    }
   ],
   "source": [
    "from sklearn.svm import SVC\n",
    "# for c in prams:\n",
    "clf = SVC(kernel = \"rbf\", C=10000.)\n",
    "print \"start fitting....\"\n",
    "t0 = time()\n",
    "clf.fit(features_train, labels_train)\n",
    "print 'training time: ',time()-t0\n",
    "\n",
    "print 'start predicting...'\n",
    "t0 = time()\n",
    "pred = clf.predict(features_test)\n",
    "print 'predict time: ', time()-t0\n",
    "\n",
    "from sklearn.metrics import accuracy_score\n",
    "print accuracy_score(pred, labels_test)"
   ]
  },
  {
   "cell_type": "code",
   "execution_count": 19,
   "metadata": {},
   "outputs": [
    {
     "name": "stdout",
     "output_type": "stream",
     "text": [
      "i =  10 : 1\n",
      "i =  26 : 0\n",
      "i =  50 : 1\n"
     ]
    }
   ],
   "source": [
    "result_indexs = [10,26,50]\n",
    "for i in result_indexs:\n",
    "    print 'i = ', i,':', pred[i]"
   ]
  },
  {
   "cell_type": "code",
   "execution_count": 34,
   "metadata": {},
   "outputs": [
    {
     "data": {
      "text/plain": [
       "877"
      ]
     },
     "execution_count": 34,
     "metadata": {},
     "output_type": "execute_result"
    }
   ],
   "source": [
    "p = pd.Series(pred)\n",
    "p[p==1].count()"
   ]
  }
 ],
 "metadata": {
  "kernelspec": {
   "display_name": "Python 2",
   "language": "python",
   "name": "python2"
  },
  "language_info": {
   "codemirror_mode": {
    "name": "ipython",
    "version": 2
   },
   "file_extension": ".py",
   "mimetype": "text/x-python",
   "name": "python",
   "nbconvert_exporter": "python",
   "pygments_lexer": "ipython2",
   "version": "2.7.13"
  }
 },
 "nbformat": 4,
 "nbformat_minor": 2
}
